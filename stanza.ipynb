{
 "cells": [
  {
   "cell_type": "code",
   "execution_count": 2,
   "metadata": {},
   "outputs": [
    {
     "name": "stderr",
     "output_type": "stream",
     "text": [
      "c:\\Users\\pierr\\.conda\\envs\\data-td\\lib\\site-packages\\tqdm\\auto.py:22: TqdmWarning: IProgress not found. Please update jupyter and ipywidgets. See https://ipywidgets.readthedocs.io/en/stable/user_install.html\n",
      "  from .autonotebook import tqdm as notebook_tqdm\n",
      "2023-05-14 20:12:50 INFO: Checking for updates to resources.json in case models have been updated.  Note: this behavior can be turned off with download_method=None or download_method=DownloadMethod.REUSE_RESOURCES\n",
      "Downloading https://raw.githubusercontent.com/stanfordnlp/stanza-resources/main/resources_1.5.0.json: 216kB [00:00, 71.9MB/s]                    \n",
      "2023-05-14 20:12:52 INFO: Loading these models for language: en (English):\n",
      "============================\n",
      "| Processor    | Package   |\n",
      "----------------------------\n",
      "| tokenize     | combined  |\n",
      "| pos          | combined  |\n",
      "| lemma        | combined  |\n",
      "| constituency | wsj       |\n",
      "| depparse     | combined  |\n",
      "| sentiment    | sstplus   |\n",
      "| ner          | ontonotes |\n",
      "============================\n",
      "\n",
      "2023-05-14 20:12:52 INFO: Using device: cpu\n",
      "2023-05-14 20:12:52 INFO: Loading: tokenize\n",
      "2023-05-14 20:12:52 INFO: Loading: pos\n",
      "2023-05-14 20:12:52 INFO: Loading: lemma\n",
      "2023-05-14 20:12:52 INFO: Loading: constituency\n",
      "2023-05-14 20:12:53 INFO: Loading: depparse\n",
      "2023-05-14 20:12:53 INFO: Loading: sentiment\n",
      "2023-05-14 20:12:54 INFO: Loading: ner\n",
      "2023-05-14 20:12:54 INFO: Done loading processors!\n"
     ]
    }
   ],
   "source": [
    "import stanza\n",
    "nlp = stanza.Pipeline('en')"
   ]
  },
  {
   "cell_type": "code",
   "execution_count": 7,
   "metadata": {},
   "outputs": [
    {
     "data": {
      "text/plain": [
       "[{'id': 1,\n",
       "  'text': 'Everybody',\n",
       "  'lemma': 'everybody',\n",
       "  'upos': 'PRON',\n",
       "  'xpos': 'NN',\n",
       "  'feats': 'Number=Sing|PronType=Tot',\n",
       "  'head': 2,\n",
       "  'deprel': 'nsubj',\n",
       "  'start_char': 0,\n",
       "  'end_char': 9,\n",
       "  'ner': 'O',\n",
       "  'multi_ner': ('O',)},\n",
       " {'id': 2,\n",
       "  'text': 'love',\n",
       "  'lemma': 'love',\n",
       "  'upos': 'VERB',\n",
       "  'xpos': 'VB',\n",
       "  'feats': 'Mood=Ind|VerbForm=Fin',\n",
       "  'head': 0,\n",
       "  'deprel': 'root',\n",
       "  'start_char': 10,\n",
       "  'end_char': 14,\n",
       "  'ner': 'O',\n",
       "  'multi_ner': ('O',)},\n",
       " {'id': 3,\n",
       "  'text': 'somebody',\n",
       "  'lemma': 'somebody',\n",
       "  'upos': 'PRON',\n",
       "  'xpos': 'NN',\n",
       "  'feats': 'Number=Sing|PronType=Ind',\n",
       "  'head': 2,\n",
       "  'deprel': 'obj',\n",
       "  'start_char': 15,\n",
       "  'end_char': 23,\n",
       "  'ner': 'O',\n",
       "  'multi_ner': ('O',)},\n",
       " {'id': 4,\n",
       "  'text': '.',\n",
       "  'lemma': '.',\n",
       "  'upos': 'PUNCT',\n",
       "  'xpos': '.',\n",
       "  'head': 2,\n",
       "  'deprel': 'punct',\n",
       "  'start_char': 23,\n",
       "  'end_char': 24,\n",
       "  'ner': 'O',\n",
       "  'multi_ner': ('O',)},\n",
       " {'id': 1,\n",
       "  'text': 'Fuck',\n",
       "  'lemma': 'fuck',\n",
       "  'upos': 'VERB',\n",
       "  'xpos': 'VB',\n",
       "  'feats': 'Mood=Imp|VerbForm=Fin',\n",
       "  'head': 0,\n",
       "  'deprel': 'root',\n",
       "  'start_char': 25,\n",
       "  'end_char': 29,\n",
       "  'ner': 'O',\n",
       "  'multi_ner': ('O',)},\n",
       " {'id': 2,\n",
       "  'text': 'you',\n",
       "  'lemma': 'you',\n",
       "  'upos': 'PRON',\n",
       "  'xpos': 'PRP',\n",
       "  'feats': 'Case=Acc|Person=2|PronType=Prs',\n",
       "  'head': 1,\n",
       "  'deprel': 'obj',\n",
       "  'start_char': 30,\n",
       "  'end_char': 33,\n",
       "  'ner': 'O',\n",
       "  'multi_ner': ('O',)},\n",
       " {'id': 3,\n",
       "  'text': '!',\n",
       "  'lemma': '!',\n",
       "  'upos': 'PUNCT',\n",
       "  'xpos': '.',\n",
       "  'head': 1,\n",
       "  'deprel': 'punct',\n",
       "  'start_char': 34,\n",
       "  'end_char': 35,\n",
       "  'ner': 'O',\n",
       "  'multi_ner': ('O',)}]"
      ]
     },
     "execution_count": 7,
     "metadata": {},
     "output_type": "execute_result"
    }
   ],
   "source": [
    "import functools\n",
    "\n",
    "functools.reduce(lambda a, b: a + b, nlp('Everybody love somebody. Fuck you !').to_dict(), [])"
   ]
  },
  {
   "cell_type": "code",
   "execution_count": 4,
   "metadata": {},
   "outputs": [
    {
     "ename": "NameError",
     "evalue": "name 's' is not defined",
     "output_type": "error",
     "traceback": [
      "\u001b[1;31m---------------------------------------------------------------------------\u001b[0m",
      "\u001b[1;31mNameError\u001b[0m                                 Traceback (most recent call last)",
      "Cell \u001b[1;32mIn[4], line 1\u001b[0m\n\u001b[1;32m----> 1\u001b[0m [t \u001b[39mfor\u001b[39;00m t \u001b[39min\u001b[39;00m s \u001b[39mfor\u001b[39;00m s \u001b[39min\u001b[39;00m nlp(\u001b[39m'\u001b[39m\u001b[39mEverybody love somebody. Fuck you !\u001b[39m\u001b[39m'\u001b[39m)]\n",
      "\u001b[1;31mNameError\u001b[0m: name 's' is not defined"
     ]
    }
   ],
   "source": [
    "[t for t in s for s in nlp('Everybody love somebody. Fuck you !')]"
   ]
  },
  {
   "cell_type": "code",
   "execution_count": 8,
   "metadata": {},
   "outputs": [
    {
     "ename": "AttributeError",
     "evalue": "'Pipeline' object has no attribute 'vocab'",
     "output_type": "error",
     "traceback": [
      "\u001b[1;31m---------------------------------------------------------------------------\u001b[0m",
      "\u001b[1;31mAttributeError\u001b[0m                            Traceback (most recent call last)",
      "Cell \u001b[1;32mIn[8], line 1\u001b[0m\n\u001b[1;32m----> 1\u001b[0m nlp\u001b[39m.\u001b[39;49mvocab\n",
      "\u001b[1;31mAttributeError\u001b[0m: 'Pipeline' object has no attribute 'vocab'"
     ]
    }
   ],
   "source": [
    "nlp.vocab"
   ]
  },
  {
   "cell_type": "code",
   "execution_count": null,
   "metadata": {},
   "outputs": [],
   "source": []
  }
 ],
 "metadata": {
  "kernelspec": {
   "display_name": "data-td",
   "language": "python",
   "name": "python3"
  },
  "language_info": {
   "codemirror_mode": {
    "name": "ipython",
    "version": 3
   },
   "file_extension": ".py",
   "mimetype": "text/x-python",
   "name": "python",
   "nbconvert_exporter": "python",
   "pygments_lexer": "ipython3",
   "version": "3.10.9"
  },
  "orig_nbformat": 4
 },
 "nbformat": 4,
 "nbformat_minor": 2
}
