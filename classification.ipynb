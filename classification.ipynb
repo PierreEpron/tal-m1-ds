{
 "cells": [
  {
   "cell_type": "code",
   "execution_count": 1,
   "metadata": {},
   "outputs": [
    {
     "name": "stderr",
     "output_type": "stream",
     "text": [
      "[nltk_data] Downloading package stopwords to\n",
      "[nltk_data]     C:\\Users\\pierr\\AppData\\Roaming\\nltk_data...\n",
      "[nltk_data]   Package stopwords is already up-to-date!\n"
     ]
    }
   ],
   "source": [
    "from src.utils import *\n",
    "from src.preprocess import clean_spacy_tokens\n",
    "\n",
    "from sklearn.feature_extraction.text import CountVectorizer, TfidfVectorizer\n",
    "from sklearn.linear_model import LogisticRegression\n",
    "from sklearn.ensemble import RandomForestClassifier\n",
    "from sklearn.model_selection import train_test_split\n",
    "from sklearn.metrics import classification_report, confusion_matrix\n",
    "\n",
    "import pandas as pd\n",
    "import numpy as np\n",
    "from functools import reduce"
   ]
  },
  {
   "cell_type": "code",
   "execution_count": 2,
   "metadata": {},
   "outputs": [],
   "source": [
    "DOCS_PATH = 'data/en_core_web_lg.jsonl'"
   ]
  },
  {
   "cell_type": "code",
   "execution_count": 3,
   "metadata": {},
   "outputs": [],
   "source": [
    "docs = read_jsonl(DOCS_PATH)"
   ]
  },
  {
   "cell_type": "code",
   "execution_count": 4,
   "metadata": {},
   "outputs": [
    {
     "data": {
      "text/html": [
       "<div>\n",
       "<style scoped>\n",
       "    .dataframe tbody tr th:only-of-type {\n",
       "        vertical-align: middle;\n",
       "    }\n",
       "\n",
       "    .dataframe tbody tr th {\n",
       "        vertical-align: top;\n",
       "    }\n",
       "\n",
       "    .dataframe thead th {\n",
       "        text-align: right;\n",
       "    }\n",
       "</style>\n",
       "<table border=\"1\" class=\"dataframe\">\n",
       "  <thead>\n",
       "    <tr style=\"text-align: right;\">\n",
       "      <th></th>\n",
       "      <th>path</th>\n",
       "      <th>birthDate</th>\n",
       "      <th>birthPlace</th>\n",
       "      <th>deathDate</th>\n",
       "    </tr>\n",
       "  </thead>\n",
       "  <tbody>\n",
       "    <tr>\n",
       "      <th>0</th>\n",
       "      <td>http://dbpedia.org/resource/Cab_Calloway</td>\n",
       "      <td>1907-12-25</td>\n",
       "      <td>http://dbpedia.org/resource/Rochester,_New_York</td>\n",
       "      <td>1994-11-18</td>\n",
       "    </tr>\n",
       "    <tr>\n",
       "      <th>1</th>\n",
       "      <td>http://dbpedia.org/resource/Cabell_Breckinridge</td>\n",
       "      <td>1788-07-14</td>\n",
       "      <td>http://dbpedia.org/resource/Albemarle_County,_...</td>\n",
       "      <td>1823-09-01</td>\n",
       "    </tr>\n",
       "    <tr>\n",
       "      <th>2</th>\n",
       "      <td>http://dbpedia.org/resource/Cabeção_(footballer)</td>\n",
       "      <td>1930-08-23</td>\n",
       "      <td>http://dbpedia.org/resource/Brazil</td>\n",
       "      <td>2020-01-06</td>\n",
       "    </tr>\n",
       "    <tr>\n",
       "      <th>3</th>\n",
       "      <td>http://dbpedia.org/resource/Cabiria_Andreian_C...</td>\n",
       "      <td>1928-02-19</td>\n",
       "      <td>http://dbpedia.org/resource/Iași</td>\n",
       "      <td>2018-05-22</td>\n",
       "    </tr>\n",
       "    <tr>\n",
       "      <th>4</th>\n",
       "      <td>http://dbpedia.org/resource/Cabo_Almi</td>\n",
       "      <td>1962-12-17</td>\n",
       "      <td>http://dbpedia.org/resource/Jardim_Olinda</td>\n",
       "      <td>2021-05-24</td>\n",
       "    </tr>\n",
       "  </tbody>\n",
       "</table>\n",
       "</div>"
      ],
      "text/plain": [
       "                                                path   birthDate  \\\n",
       "0           http://dbpedia.org/resource/Cab_Calloway  1907-12-25   \n",
       "1    http://dbpedia.org/resource/Cabell_Breckinridge  1788-07-14   \n",
       "2   http://dbpedia.org/resource/Cabeção_(footballer)  1930-08-23   \n",
       "3  http://dbpedia.org/resource/Cabiria_Andreian_C...  1928-02-19   \n",
       "4              http://dbpedia.org/resource/Cabo_Almi  1962-12-17   \n",
       "\n",
       "                                          birthPlace   deathDate  \n",
       "0    http://dbpedia.org/resource/Rochester,_New_York  1994-11-18  \n",
       "1  http://dbpedia.org/resource/Albemarle_County,_...  1823-09-01  \n",
       "2                 http://dbpedia.org/resource/Brazil  2020-01-06  \n",
       "3                   http://dbpedia.org/resource/Iași  2018-05-22  \n",
       "4          http://dbpedia.org/resource/Jardim_Olinda  2021-05-24  "
      ]
     },
     "execution_count": 4,
     "metadata": {},
     "output_type": "execute_result"
    }
   ],
   "source": [
    "df = pd.DataFrame(docs, columns=['path', 'birthDate', 'birthPlace', 'deathDate'])\n",
    "df.head()"
   ]
  },
  {
   "cell_type": "code",
   "execution_count": 5,
   "metadata": {},
   "outputs": [
    {
     "data": {
      "text/html": [
       "<div>\n",
       "<style scoped>\n",
       "    .dataframe tbody tr th:only-of-type {\n",
       "        vertical-align: middle;\n",
       "    }\n",
       "\n",
       "    .dataframe tbody tr th {\n",
       "        vertical-align: top;\n",
       "    }\n",
       "\n",
       "    .dataframe thead th {\n",
       "        text-align: right;\n",
       "    }\n",
       "</style>\n",
       "<table border=\"1\" class=\"dataframe\">\n",
       "  <thead>\n",
       "    <tr style=\"text-align: right;\">\n",
       "      <th></th>\n",
       "      <th>path</th>\n",
       "      <th>birthDate</th>\n",
       "      <th>birthPlace</th>\n",
       "      <th>deathDate</th>\n",
       "      <th>tokens</th>\n",
       "    </tr>\n",
       "  </thead>\n",
       "  <tbody>\n",
       "    <tr>\n",
       "      <th>0</th>\n",
       "      <td>http://dbpedia.org/resource/Cab_Calloway</td>\n",
       "      <td>1907-12-25</td>\n",
       "      <td>http://dbpedia.org/resource/Rochester,_New_York</td>\n",
       "      <td>1994-11-18</td>\n",
       "      <td>[Cabell, Calloway, III, american, singer, song...</td>\n",
       "    </tr>\n",
       "    <tr>\n",
       "      <th>1</th>\n",
       "      <td>http://dbpedia.org/resource/Cabell_Breckinridge</td>\n",
       "      <td>1788-07-14</td>\n",
       "      <td>http://dbpedia.org/resource/Albemarle_County,_...</td>\n",
       "      <td>1823-09-01</td>\n",
       "      <td>[Joseph, Cabell, Breckinridge, lawyer, soldier...</td>\n",
       "    </tr>\n",
       "    <tr>\n",
       "      <th>2</th>\n",
       "      <td>http://dbpedia.org/resource/Cabeção_(footballer)</td>\n",
       "      <td>1930-08-23</td>\n",
       "      <td>http://dbpedia.org/resource/Brazil</td>\n",
       "      <td>2020-01-06</td>\n",
       "      <td>[Luís, Morais, know, Cabeção, brazilian, footb...</td>\n",
       "    </tr>\n",
       "    <tr>\n",
       "      <th>3</th>\n",
       "      <td>http://dbpedia.org/resource/Cabiria_Andreian_C...</td>\n",
       "      <td>1928-02-19</td>\n",
       "      <td>http://dbpedia.org/resource/Iași</td>\n",
       "      <td>2018-05-22</td>\n",
       "      <td>[Cabiria, Andreian, Cazacu, romanian, mathemat...</td>\n",
       "    </tr>\n",
       "    <tr>\n",
       "      <th>4</th>\n",
       "      <td>http://dbpedia.org/resource/Cabo_Almi</td>\n",
       "      <td>1962-12-17</td>\n",
       "      <td>http://dbpedia.org/resource/Jardim_Olinda</td>\n",
       "      <td>2021-05-24</td>\n",
       "      <td>[José, Almi, Pereira, Moura, full, name, Cabo,...</td>\n",
       "    </tr>\n",
       "  </tbody>\n",
       "</table>\n",
       "</div>"
      ],
      "text/plain": [
       "                                                path   birthDate  \\\n",
       "0           http://dbpedia.org/resource/Cab_Calloway  1907-12-25   \n",
       "1    http://dbpedia.org/resource/Cabell_Breckinridge  1788-07-14   \n",
       "2   http://dbpedia.org/resource/Cabeção_(footballer)  1930-08-23   \n",
       "3  http://dbpedia.org/resource/Cabiria_Andreian_C...  1928-02-19   \n",
       "4              http://dbpedia.org/resource/Cabo_Almi  1962-12-17   \n",
       "\n",
       "                                          birthPlace   deathDate  \\\n",
       "0    http://dbpedia.org/resource/Rochester,_New_York  1994-11-18   \n",
       "1  http://dbpedia.org/resource/Albemarle_County,_...  1823-09-01   \n",
       "2                 http://dbpedia.org/resource/Brazil  2020-01-06   \n",
       "3                   http://dbpedia.org/resource/Iași  2018-05-22   \n",
       "4          http://dbpedia.org/resource/Jardim_Olinda  2021-05-24   \n",
       "\n",
       "                                              tokens  \n",
       "0  [Cabell, Calloway, III, american, singer, song...  \n",
       "1  [Joseph, Cabell, Breckinridge, lawyer, soldier...  \n",
       "2  [Luís, Morais, know, Cabeção, brazilian, footb...  \n",
       "3  [Cabiria, Andreian, Cazacu, romanian, mathemat...  \n",
       "4  [José, Almi, Pereira, Moura, full, name, Cabo,...  "
      ]
     },
     "execution_count": 5,
     "metadata": {},
     "output_type": "execute_result"
    }
   ],
   "source": [
    "cleaner = clean_spacy_tokens()\n",
    "df['tokens'] = [cleaner(doc['abstract']) for doc in docs]\n",
    "df.head()"
   ]
  },
  {
   "cell_type": "code",
   "execution_count": 6,
   "metadata": {},
   "outputs": [
    {
     "data": {
      "text/html": [
       "<div>\n",
       "<style scoped>\n",
       "    .dataframe tbody tr th:only-of-type {\n",
       "        vertical-align: middle;\n",
       "    }\n",
       "\n",
       "    .dataframe tbody tr th {\n",
       "        vertical-align: top;\n",
       "    }\n",
       "\n",
       "    .dataframe thead th {\n",
       "        text-align: right;\n",
       "    }\n",
       "</style>\n",
       "<table border=\"1\" class=\"dataframe\">\n",
       "  <thead>\n",
       "    <tr style=\"text-align: right;\">\n",
       "      <th></th>\n",
       "      <th>path</th>\n",
       "      <th>birthDate</th>\n",
       "      <th>birthPlace</th>\n",
       "      <th>deathDate</th>\n",
       "      <th>tokens</th>\n",
       "      <th>astral_sign</th>\n",
       "    </tr>\n",
       "  </thead>\n",
       "  <tbody>\n",
       "    <tr>\n",
       "      <th>0</th>\n",
       "      <td>http://dbpedia.org/resource/Cab_Calloway</td>\n",
       "      <td>1907-12-25</td>\n",
       "      <td>http://dbpedia.org/resource/Rochester,_New_York</td>\n",
       "      <td>1994-11-18</td>\n",
       "      <td>[Cabell, Calloway, III, american, singer, song...</td>\n",
       "      <td>Capricorn</td>\n",
       "    </tr>\n",
       "    <tr>\n",
       "      <th>1</th>\n",
       "      <td>http://dbpedia.org/resource/Cabell_Breckinridge</td>\n",
       "      <td>1788-07-14</td>\n",
       "      <td>http://dbpedia.org/resource/Albemarle_County,_...</td>\n",
       "      <td>1823-09-01</td>\n",
       "      <td>[Joseph, Cabell, Breckinridge, lawyer, soldier...</td>\n",
       "      <td>Cancer</td>\n",
       "    </tr>\n",
       "    <tr>\n",
       "      <th>2</th>\n",
       "      <td>http://dbpedia.org/resource/Cabeção_(footballer)</td>\n",
       "      <td>1930-08-23</td>\n",
       "      <td>http://dbpedia.org/resource/Brazil</td>\n",
       "      <td>2020-01-06</td>\n",
       "      <td>[Luís, Morais, know, Cabeção, brazilian, footb...</td>\n",
       "      <td>Virgo</td>\n",
       "    </tr>\n",
       "    <tr>\n",
       "      <th>3</th>\n",
       "      <td>http://dbpedia.org/resource/Cabiria_Andreian_C...</td>\n",
       "      <td>1928-02-19</td>\n",
       "      <td>http://dbpedia.org/resource/Iași</td>\n",
       "      <td>2018-05-22</td>\n",
       "      <td>[Cabiria, Andreian, Cazacu, romanian, mathemat...</td>\n",
       "      <td>Aquarius</td>\n",
       "    </tr>\n",
       "    <tr>\n",
       "      <th>4</th>\n",
       "      <td>http://dbpedia.org/resource/Cabo_Almi</td>\n",
       "      <td>1962-12-17</td>\n",
       "      <td>http://dbpedia.org/resource/Jardim_Olinda</td>\n",
       "      <td>2021-05-24</td>\n",
       "      <td>[José, Almi, Pereira, Moura, full, name, Cabo,...</td>\n",
       "      <td>Sagittarius</td>\n",
       "    </tr>\n",
       "  </tbody>\n",
       "</table>\n",
       "</div>"
      ],
      "text/plain": [
       "                                                path   birthDate  \\\n",
       "0           http://dbpedia.org/resource/Cab_Calloway  1907-12-25   \n",
       "1    http://dbpedia.org/resource/Cabell_Breckinridge  1788-07-14   \n",
       "2   http://dbpedia.org/resource/Cabeção_(footballer)  1930-08-23   \n",
       "3  http://dbpedia.org/resource/Cabiria_Andreian_C...  1928-02-19   \n",
       "4              http://dbpedia.org/resource/Cabo_Almi  1962-12-17   \n",
       "\n",
       "                                          birthPlace   deathDate  \\\n",
       "0    http://dbpedia.org/resource/Rochester,_New_York  1994-11-18   \n",
       "1  http://dbpedia.org/resource/Albemarle_County,_...  1823-09-01   \n",
       "2                 http://dbpedia.org/resource/Brazil  2020-01-06   \n",
       "3                   http://dbpedia.org/resource/Iași  2018-05-22   \n",
       "4          http://dbpedia.org/resource/Jardim_Olinda  2021-05-24   \n",
       "\n",
       "                                              tokens  astral_sign  \n",
       "0  [Cabell, Calloway, III, american, singer, song...    Capricorn  \n",
       "1  [Joseph, Cabell, Breckinridge, lawyer, soldier...       Cancer  \n",
       "2  [Luís, Morais, know, Cabeção, brazilian, footb...        Virgo  \n",
       "3  [Cabiria, Andreian, Cazacu, romanian, mathemat...     Aquarius  \n",
       "4  [José, Almi, Pereira, Moura, full, name, Cabo,...  Sagittarius  "
      ]
     },
     "execution_count": 6,
     "metadata": {},
     "output_type": "execute_result"
    }
   ],
   "source": [
    "df['astral_sign'] = df.birthDate.apply(date_to_astral)\n",
    "df.head()"
   ]
  },
  {
   "cell_type": "code",
   "execution_count": 7,
   "metadata": {},
   "outputs": [
    {
     "data": {
      "text/plain": [
       "'http://dbpedia.org/resource/Albemarle_County,_Virginia'"
      ]
     },
     "execution_count": 7,
     "metadata": {},
     "output_type": "execute_result"
    }
   ],
   "source": [
    "df.loc[1, 'birthPlace']"
   ]
  },
  {
   "attachments": {},
   "cell_type": "markdown",
   "metadata": {},
   "source": [
    "## Binary Classification"
   ]
  },
  {
   "cell_type": "code",
   "execution_count": 7,
   "metadata": {},
   "outputs": [
    {
     "data": {
      "text/plain": [
       "Capricorn      4183\n",
       "Aquarius       4079\n",
       "Scorpio        4018\n",
       "Aries          3985\n",
       "Virgo          3961\n",
       "Pisces         3954\n",
       "Gemini         3911\n",
       "Leo            3902\n",
       "Cancer         3776\n",
       "Libra          3731\n",
       "Taurus         3626\n",
       "Sagittarius    3486\n",
       "Name: astral_sign, dtype: int64"
      ]
     },
     "execution_count": 7,
     "metadata": {},
     "output_type": "execute_result"
    }
   ],
   "source": [
    "df['astral_sign'].value_counts()"
   ]
  },
  {
   "cell_type": "code",
   "execution_count": 8,
   "metadata": {},
   "outputs": [],
   "source": [
    "TARGET_LABEL = 'Capricorn'\n",
    "df['target'] = df['astral_sign'] == TARGET_LABEL"
   ]
  },
  {
   "cell_type": "code",
   "execution_count": 9,
   "metadata": {},
   "outputs": [],
   "source": [
    "train_indices, test_indices = train_test_split(list(df.index), test_size=0.3, random_state=42)"
   ]
  },
  {
   "cell_type": "code",
   "execution_count": 16,
   "metadata": {},
   "outputs": [],
   "source": [
    "# One label\n",
    "def preprocess(df, train_indices, test_indices):\n",
    "    tokens = df['tokens'].apply(lambda x: ' '.join(x))\n",
    "    vectorizer = TfidfVectorizer(lowercase=False, token_pattern=r'([^\\s]+)').fit(tokens)\n",
    "\n",
    "    # Delete this if u don't want equals size of labels in train set\n",
    "    y_train = df.loc[train_indices, 'astral_sign'] == TARGET_LABEL\n",
    "    train_indices = list(y_train[y_train == True].index) \n",
    "    train_indices += list(y_train[y_train == False].index)[:len(train_indices)]\n",
    "\n",
    "    y_test = df.loc[test_indices, 'astral_sign'] == TARGET_LABEL\n",
    "    test_indices = list(y_test[y_test == True].index) \n",
    "    test_indices += list(y_test[y_test == False].index)[:len(test_indices)]\n",
    "\n",
    "\n",
    "    return (\n",
    "        vectorizer.transform(tokens[train_indices]),\n",
    "        (df.loc[train_indices, 'astral_sign'] == TARGET_LABEL).astype(int),\n",
    "        vectorizer.transform(tokens[test_indices]),\n",
    "        (df.loc[test_indices, 'astral_sign'] == TARGET_LABEL).astype(int),\n",
    "    )\n",
    "\n",
    "# Two Label\n",
    "def preprocess(df, train_indices, test_indices, labels = ['Taurus', 'Sagittarius']):\n",
    "    tokens = df['tokens'].apply(lambda x: ' '.join(x))\n",
    "    vectorizer = TfidfVectorizer(lowercase=False, token_pattern=r'([^\\s]+)').fit(tokens)\n",
    "\n",
    "    train_set = df.iloc[train_indices]\n",
    "    test_set = df.iloc[test_indices]\n",
    "\n",
    "    train_indices = []\n",
    "    test_indices = []\n",
    "    for label in labels:\n",
    "        train_indices += list(train_set[train_set['astral_sign'] == label].index)\n",
    "        test_indices += list(test_set[test_set['astral_sign'] == label].index)\n",
    "\n",
    "    return (\n",
    "        vectorizer.transform(tokens[train_indices]),\n",
    "        train_set.loc[train_indices, 'astral_sign'],\n",
    "        vectorizer.transform(tokens[test_indices]),\n",
    "        test_set.loc[test_indices, 'astral_sign'],\n",
    "    )\n"
   ]
  },
  {
   "cell_type": "code",
   "execution_count": 17,
   "metadata": {},
   "outputs": [],
   "source": [
    "X_train, y_train, X_test, y_test = preprocess(df, train_indices, test_indices)"
   ]
  },
  {
   "cell_type": "code",
   "execution_count": 18,
   "metadata": {},
   "outputs": [
    {
     "data": {
      "text/plain": [
       "Taurus         0.507898\n",
       "Sagittarius    0.492102\n",
       "Name: astral_sign, dtype: float64"
      ]
     },
     "execution_count": 18,
     "metadata": {},
     "output_type": "execute_result"
    }
   ],
   "source": [
    "y_train.value_counts() / len(y_train)"
   ]
  },
  {
   "cell_type": "code",
   "execution_count": 19,
   "metadata": {},
   "outputs": [
    {
     "data": {
      "text/plain": [
       "Taurus         0.514448\n",
       "Sagittarius    0.485552\n",
       "Name: astral_sign, dtype: float64"
      ]
     },
     "execution_count": 19,
     "metadata": {},
     "output_type": "execute_result"
    }
   ],
   "source": [
    "y_test.value_counts()  / len(y_test)"
   ]
  },
  {
   "cell_type": "code",
   "execution_count": 20,
   "metadata": {},
   "outputs": [
    {
     "data": {
      "text/plain": [
       "((5001, 139538), (5001,), (2111, 139538), (2111,))"
      ]
     },
     "execution_count": 20,
     "metadata": {},
     "output_type": "execute_result"
    }
   ],
   "source": [
    "(X_train.shape, y_train.shape, X_test.shape, y_test.shape)"
   ]
  },
  {
   "cell_type": "code",
   "execution_count": 21,
   "metadata": {},
   "outputs": [
    {
     "name": "stderr",
     "output_type": "stream",
     "text": [
      "[Parallel(n_jobs=8)]: Using backend LokyBackend with 8 concurrent workers.\n",
      "[Parallel(n_jobs=8)]: Done   1 out of   1 | elapsed:    2.5s finished\n"
     ]
    }
   ],
   "source": [
    "clf = LogisticRegression(class_weight='balanced', random_state=42, verbose=1, n_jobs=8).fit(X_train, y_train)"
   ]
  },
  {
   "cell_type": "code",
   "execution_count": 23,
   "metadata": {},
   "outputs": [
    {
     "name": "stdout",
     "output_type": "stream",
     "text": [
      "[[501 524]\n",
      " [530 556]]\n",
      "              precision    recall  f1-score   support\n",
      "\n",
      " Sagittarius       0.49      0.49      0.49      1025\n",
      "      Taurus       0.51      0.51      0.51      1086\n",
      "\n",
      "    accuracy                           0.50      2111\n",
      "   macro avg       0.50      0.50      0.50      2111\n",
      "weighted avg       0.50      0.50      0.50      2111\n",
      "\n"
     ]
    }
   ],
   "source": [
    "y_pred = clf.predict(X_test)\n",
    "print(confusion_matrix(y_test, y_pred))\n",
    "print(classification_report(y_test, y_pred))"
   ]
  },
  {
   "cell_type": "code",
   "execution_count": 24,
   "metadata": {},
   "outputs": [
    {
     "name": "stderr",
     "output_type": "stream",
     "text": [
      "[Parallel(n_jobs=8)]: Using backend ThreadingBackend with 8 concurrent workers.\n",
      "[Parallel(n_jobs=8)]: Done  34 tasks      | elapsed:    6.3s\n",
      "[Parallel(n_jobs=8)]: Done 100 out of 100 | elapsed:   14.4s finished\n"
     ]
    }
   ],
   "source": [
    "rfc = RandomForestClassifier(class_weight='balanced', random_state=42, n_jobs=8, verbose=1).fit(X_train, y_train)"
   ]
  },
  {
   "cell_type": "code",
   "execution_count": 25,
   "metadata": {},
   "outputs": [
    {
     "name": "stdout",
     "output_type": "stream",
     "text": [
      "[[474 551]\n",
      " [513 573]]\n",
      "              precision    recall  f1-score   support\n",
      "\n",
      " Sagittarius       0.48      0.46      0.47      1025\n",
      "      Taurus       0.51      0.53      0.52      1086\n",
      "\n",
      "    accuracy                           0.50      2111\n",
      "   macro avg       0.50      0.50      0.49      2111\n",
      "weighted avg       0.50      0.50      0.50      2111\n",
      "\n"
     ]
    },
    {
     "name": "stderr",
     "output_type": "stream",
     "text": [
      "[Parallel(n_jobs=8)]: Using backend ThreadingBackend with 8 concurrent workers.\n",
      "[Parallel(n_jobs=8)]: Done  34 tasks      | elapsed:    0.0s\n",
      "[Parallel(n_jobs=8)]: Done 100 out of 100 | elapsed:    0.0s finished\n"
     ]
    }
   ],
   "source": [
    "y_pred = rfc.predict(X_test)\n",
    "print(confusion_matrix(y_test, y_pred))\n",
    "print(classification_report(y_test, y_pred))"
   ]
  },
  {
   "cell_type": "code",
   "execution_count": 26,
   "metadata": {},
   "outputs": [],
   "source": [
    "X_train, y_train, X_test, y_test = preprocess(df, train_indices, test_indices, labels=ASTRAL_DATES.keys())"
   ]
  },
  {
   "cell_type": "code",
   "execution_count": 27,
   "metadata": {},
   "outputs": [
    {
     "data": {
      "text/plain": [
       "Capricorn      0.089524\n",
       "Aries          0.086919\n",
       "Scorpio        0.086459\n",
       "Aquarius       0.085816\n",
       "Pisces         0.085387\n",
       "Virgo          0.084713\n",
       "Gemini         0.084314\n",
       "Leo            0.082015\n",
       "Cancer         0.081464\n",
       "Libra          0.080115\n",
       "Taurus         0.077847\n",
       "Sagittarius    0.075426\n",
       "Name: astral_sign, dtype: float64"
      ]
     },
     "execution_count": 27,
     "metadata": {},
     "output_type": "execute_result"
    }
   ],
   "source": [
    "y_train.value_counts() / len(y_train)"
   ]
  },
  {
   "cell_type": "code",
   "execution_count": 28,
   "metadata": {},
   "outputs": [
    {
     "data": {
      "text/plain": [
       "Aquarius       0.091462\n",
       "Capricorn      0.090246\n",
       "Leo            0.087672\n",
       "Virgo          0.085598\n",
       "Scorpio        0.085598\n",
       "Pisces         0.083524\n",
       "Gemini         0.082952\n",
       "Aries          0.082165\n",
       "Cancer         0.079949\n",
       "Libra          0.079877\n",
       "Taurus         0.077660\n",
       "Sagittarius    0.073298\n",
       "Name: astral_sign, dtype: float64"
      ]
     },
     "execution_count": 28,
     "metadata": {},
     "output_type": "execute_result"
    }
   ],
   "source": [
    "y_test.value_counts() / len(y_test)"
   ]
  },
  {
   "cell_type": "code",
   "execution_count": 29,
   "metadata": {},
   "outputs": [
    {
     "name": "stderr",
     "output_type": "stream",
     "text": [
      "[Parallel(n_jobs=8)]: Using backend LokyBackend with 8 concurrent workers.\n",
      "[Parallel(n_jobs=8)]: Done   1 out of   1 | elapsed:   38.1s finished\n"
     ]
    }
   ],
   "source": [
    "clf = LogisticRegression(class_weight='balanced', random_state=42, verbose=1, n_jobs=8).fit(X_train, y_train)"
   ]
  },
  {
   "cell_type": "code",
   "execution_count": 30,
   "metadata": {},
   "outputs": [
    {
     "name": "stdout",
     "output_type": "stream",
     "text": [
      "[[114  92  88 135 100 103 106 106 107 102 116 110]\n",
      " [102  97  84 110  92 102  78  93  88  89 124  90]\n",
      " [112  68  89  98  93  91 105  94  71  89  99 109]\n",
      " [121  81 104 133  97 113  99  94 102  88 114 116]\n",
      " [100  95  96 112  82  94 104 105 103  81  90  98]\n",
      " [ 97  88 118 121  97 107  99  92  99 103 111  94]\n",
      " [ 83  90 100  92  93  92  89  93  81 110  94 100]\n",
      " [ 93  95  89 134  95  95  95 111 104  90  87  80]\n",
      " [ 95  88  82  97  73  86  83  75  75  88  94  89]\n",
      " [115  77  97  97 109  98  95  88 100  97 113 111]\n",
      " [ 85  83  90 104  94  89 100  82  82  76 112  89]\n",
      " [ 99  88 107 126 104  94  91  93  92  96 100 107]]\n",
      "              precision    recall  f1-score   support\n",
      "\n",
      "    Aquarius       0.09      0.09      0.09      1279\n",
      "       Aries       0.09      0.08      0.09      1149\n",
      "      Cancer       0.08      0.08      0.08      1118\n",
      "   Capricorn       0.10      0.11      0.10      1262\n",
      "      Gemini       0.07      0.07      0.07      1160\n",
      "         Leo       0.09      0.09      0.09      1226\n",
      "       Libra       0.08      0.08      0.08      1117\n",
      "      Pisces       0.10      0.10      0.10      1168\n",
      " Sagittarius       0.07      0.07      0.07      1025\n",
      "     Scorpio       0.09      0.08      0.08      1197\n",
      "      Taurus       0.09      0.10      0.10      1086\n",
      "       Virgo       0.09      0.09      0.09      1197\n",
      "\n",
      "    accuracy                           0.09     13984\n",
      "   macro avg       0.09      0.09      0.09     13984\n",
      "weighted avg       0.09      0.09      0.09     13984\n",
      "\n"
     ]
    }
   ],
   "source": [
    "y_pred = clf.predict(X_test)\n",
    "print(confusion_matrix(y_test, y_pred))\n",
    "print(classification_report(y_test, y_pred))"
   ]
  },
  {
   "cell_type": "code",
   "execution_count": 32,
   "metadata": {},
   "outputs": [
    {
     "name": "stderr",
     "output_type": "stream",
     "text": [
      "[Parallel(n_jobs=8)]: Using backend ThreadingBackend with 8 concurrent workers.\n",
      "[Parallel(n_jobs=8)]: Done  34 tasks      | elapsed:  1.3min\n",
      "[Parallel(n_jobs=8)]: Done 100 out of 100 | elapsed:  3.7min finished\n"
     ]
    }
   ],
   "source": [
    "rfc = RandomForestClassifier(class_weight='balanced', random_state=42, n_jobs=8, verbose=1).fit(X_train, y_train)"
   ]
  },
  {
   "cell_type": "code",
   "execution_count": 33,
   "metadata": {},
   "outputs": [
    {
     "name": "stderr",
     "output_type": "stream",
     "text": [
      "[Parallel(n_jobs=8)]: Using backend ThreadingBackend with 8 concurrent workers.\n",
      "[Parallel(n_jobs=8)]: Done  34 tasks      | elapsed:    0.2s\n",
      "[Parallel(n_jobs=8)]: Done 100 out of 100 | elapsed:    0.6s finished\n"
     ]
    },
    {
     "name": "stdout",
     "output_type": "stream",
     "text": [
      "[[145 152 103 193 116  97  86  97  39  99  56  96]\n",
      " [118 140  80 160 114  73  69 106  42 107  64  76]\n",
      " [134 126  67 138 118  72  80  91  51 107  47  87]\n",
      " [154 147  86 184 110  91  84  88  49 110  65  94]\n",
      " [122 135  98 176  89  83  71 101  59 107  48  71]\n",
      " [116 144 102 182 117  83  68  97  58 120  50  89]\n",
      " [132 136  83 163  94  84  62  79  38 102  56  88]\n",
      " [139 135  84 160 106  77  71  95  56 106  50  89]\n",
      " [111 137  48 144  90  65  69  89  47  83  51  91]\n",
      " [153 128  70 166 116  82  63 119  36  99  61 104]\n",
      " [106 124  81 167  97  80  64  86  45 106  46  84]\n",
      " [124 153  99 161  91  76  71 104  60 113  62  83]]\n",
      "              precision    recall  f1-score   support\n",
      "\n",
      "    Aquarius       0.09      0.11      0.10      1279\n",
      "       Aries       0.08      0.12      0.10      1149\n",
      "      Cancer       0.07      0.06      0.06      1118\n",
      "   Capricorn       0.09      0.15      0.11      1262\n",
      "      Gemini       0.07      0.08      0.07      1160\n",
      "         Leo       0.09      0.07      0.08      1226\n",
      "       Libra       0.07      0.06      0.06      1117\n",
      "      Pisces       0.08      0.08      0.08      1168\n",
      " Sagittarius       0.08      0.05      0.06      1025\n",
      "     Scorpio       0.08      0.08      0.08      1197\n",
      "      Taurus       0.07      0.04      0.05      1086\n",
      "       Virgo       0.08      0.07      0.07      1197\n",
      "\n",
      "    accuracy                           0.08     13984\n",
      "   macro avg       0.08      0.08      0.08     13984\n",
      "weighted avg       0.08      0.08      0.08     13984\n",
      "\n"
     ]
    }
   ],
   "source": [
    "y_pred = rfc.predict(X_test)\n",
    "print(confusion_matrix(y_test, y_pred))\n",
    "print(classification_report(y_test, y_pred))"
   ]
  },
  {
   "cell_type": "code",
   "execution_count": null,
   "metadata": {},
   "outputs": [],
   "source": [
    "geonames"
   ]
  }
 ],
 "metadata": {
  "kernelspec": {
   "display_name": "data-td",
   "language": "python",
   "name": "python3"
  },
  "language_info": {
   "codemirror_mode": {
    "name": "ipython",
    "version": 3
   },
   "file_extension": ".py",
   "mimetype": "text/x-python",
   "name": "python",
   "nbconvert_exporter": "python",
   "pygments_lexer": "ipython3",
   "version": "3.10.9"
  },
  "orig_nbformat": 4
 },
 "nbformat": 4,
 "nbformat_minor": 2
}
